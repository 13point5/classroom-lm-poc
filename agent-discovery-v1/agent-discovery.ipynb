{
 "cells": [
  {
   "cell_type": "code",
   "execution_count": 2,
   "metadata": {},
   "outputs": [],
   "source": [
    "from typing import List, Optional\n",
    "from pydantic import BaseModel\n",
    "from dotenv import load_dotenv\n",
    "\n",
    "import chromadb\n",
    "import openai\n",
    "import instructor\n",
    "\n",
    "from models import EssayAgentKnowledge, MathAgentKnowledge, Message, MessageRole"
   ]
  },
  {
   "cell_type": "code",
   "execution_count": 3,
   "metadata": {},
   "outputs": [],
   "source": [
    "load_dotenv()\n",
    "\n",
    "chroma_client = chromadb.Client()\n",
    "openai_client = openai.OpenAI()\n",
    "instructor_client = instructor.from_openai(openai_client)"
   ]
  },
  {
   "cell_type": "code",
   "execution_count": 4,
   "metadata": {},
   "outputs": [],
   "source": [
    "class StudentAgent:\n",
    "    def __init__(\n",
    "        self, id: str, name: str, system_prompt: str, knowledge_cls: BaseModel\n",
    "    ) -> None:\n",
    "        self.id = id\n",
    "        self.name = name\n",
    "        self.system_prompt = system_prompt\n",
    "        self.knowledge_cls = knowledge_cls\n",
    "        self.knowledge_description = self._generate_knowledge_description()\n",
    "        pass\n",
    "\n",
    "    def respond(self, input: str, chat_history: List[Message]) -> Message:\n",
    "        response = openai_client.chat.completions.create(\n",
    "            model=\"gpt-3.5-turbo\",\n",
    "            messages=chat_history\n",
    "            + [Message(role=MessageRole.user, content=input)],\n",
    "        )\n",
    "\n",
    "        return response.choices[0].message.content\n",
    "\n",
    "    def get_knowledge(self):\n",
    "        pass\n",
    "\n",
    "    def _generate_knowledge_description(self) -> str:\n",
    "        response = openai_client.chat.completions.create(\n",
    "            model=\"gpt-4-turbo\",\n",
    "            messages=[\n",
    "                Message(\n",
    "                    role=MessageRole.system,\n",
    "                    content=\"You are an expert in creating detailed, \\\n",
    "                        \thuman-readable descriptions(NOT JSON) for intelligent agents \\\n",
    "                            based on their specific system prompts and knowledge schemas. \\\n",
    "                            Your task is to generate a first-person description of the agent, \\\n",
    "                            explaining its purpose and capabilities. \\\n",
    "                            Additionally, you will describe the structured knowledge the agent \\\n",
    "                            stores according to the provided JSON schema. \\\n",
    "                            Ensure that the description is clear, comprehensive, and accessible to a general audience.\",\n",
    "                ),\n",
    "                Message(\n",
    "                    role=MessageRole.user,\n",
    "                    content=(\n",
    "                        f\"Agent name: {self.name}\\n\\n\"\n",
    "                        f\"Agent System prompt: {self.system_prompt}\\n\\n\"\n",
    "                        f\"JSON Schema for Knowledge stored: {self.knowledge_cls.model_json_schema()}\"\n",
    "                    ),\n",
    "                ),\n",
    "            ],\n",
    "        )\n",
    "\n",
    "        return response.choices[0].message.content"
   ]
  },
  {
   "cell_type": "code",
   "execution_count": 5,
   "metadata": {},
   "outputs": [],
   "source": [
    "EssayFeedbackAgent = StudentAgent(id=\"1\", name=\"EssayFeedbackAgent\", system_prompt=\"You are an expert at providing feedback on essays for 8th graders.\", knowledge_cls=EssayAgentKnowledge)"
   ]
  },
  {
   "cell_type": "code",
   "execution_count": 90,
   "metadata": {},
   "outputs": [
    {
     "name": "stdout",
     "output_type": "stream",
     "text": [
      "Writing a good essay involves careful planning, clear organization, and effective communication of your ideas. Here are some tips to help you write a successful essay:\n",
      "\n",
      "1. Understand the assignment: Before you start writing, make sure you fully understand the prompt or question you are being asked to address. Take the time to analyze the assignment and identify key requirements such as the topic, length, and format.\n",
      "\n",
      "2. Research the topic: Conduct thorough research on the topic you are writing about. Gather relevant information from credible sources such as books, articles, and scholarly journals. Take notes and make sure to properly cite any sources you use in your essay.\n",
      "\n",
      "3. Develop a thesis statement: A thesis statement is a concise statement that summarizes the main point or argument of your essay. Make sure your thesis is clear, specific, and arguable.\n",
      "\n",
      "4. Create an outline: Organize your ideas and information by creating an outline for your essay. An outline will help you structure your essay and ensure that your ideas flow logically.\n",
      "\n",
      "5. Write a strong introduction: Start your essay with a compelling introduction that grabs the reader's attention. Clearly state your thesis and provide a brief overview of the main points you will be discussing in the essay.\n",
      "\n",
      "6. Support your argument: Use evidence and examples to support your thesis and main points. Make sure to cite your sources and provide proper documentation for any quotations or paraphrased information.\n",
      "\n",
      "7. Write a clear and coherent body: Present your ideas in a logical and structured manner. Each paragraph should focus on a single idea or argument and follow a clear topic sentence.\n",
      "\n",
      "8. Conclude effectively: Summarize your main points and restate your thesis in the conclusion. Avoid introducing new information in the conclusion and leave the reader with a strong final impression.\n",
      "\n",
      "9. Edit and revise: Proofread your essay carefully for spelling, grammar, and punctuation errors. Make sure your writing is clear and concise, and that your ideas are well-organized and effectively communicated.\n",
      "\n",
      "By following these steps and paying attention to detail, you can write a strong and successful essay that effectively communicates your ideas and arguments. Good luck!\n"
     ]
    }
   ],
   "source": [
    "print(EssayFeedbackAgent.respond(input=\"How do i write a good essay?\", chat_history=[]))"
   ]
  },
  {
   "cell_type": "code",
   "execution_count": 44,
   "metadata": {},
   "outputs": [
    {
     "name": "stdout",
     "output_type": "stream",
     "text": [
      "Hello! I am the EssayFeedbackAgent, designed specifically to assist with providing thorough and constructive feedback on essays written by 8th graders. My main purpose is to help students enhance their writing skills by offering insights into various aspects of their essays, from the structure and clarity of their arguments to the persuasiveness and relevance of their evidence.\n",
      "\n",
      "Let’s delve into my capabilities and how I structure my feedback:\n",
      "\n",
      "**Capabilities:**\n",
      "1. **Detailed Analysis:** I am programmed to analyze essays based on defined criteria that focus on essential components of essay writing. This includes the introduction, structure, argumentation, evidence, and conclusion.\n",
      "2. **Constructive Feedback:** For each part of the essay, I provide a balanced view highlighting strengths, weaknesses, and offering constructive suggestions. This approach is aimed at fostering students’ skills in critical thinking and self-improvement.\n",
      "3. **Targeted Suggestions:** My feedback is tailored to the specific needs of middle school students, making it accessible and actionable. I focus on elements that are crucial at their academic level, such as the clarity of thesis statements, the logical flow of ideas, and the use of credible sources.\n",
      "\n",
      "**Knowledge Structure:**\n",
      "My database is organized according to a structured schema that comprises several key sections:\n",
      "\n",
      "- **Introduction Feedback:** I evaluate the essay’s introductory paragraph, focusing on the clarity of its thesis statement and the engagement level of the opening statements. This section of my knowledge includes arrays of strengths, weaknesses, and additional suggestions specific to the introduction.\n",
      "  \n",
      "- **Structure Feedback:** In this part, I analyze the organizational pattern and clarity of paragraphs throughout the essay. I look at how logically the ideas flow and whether the overall structure supports the thesis effectively.\n",
      "\n",
      "- **Argument Booster Feedback:** Here, I critique the strength and clarity of the essay's arguments. I assess the critical reasoning applied and how convincingly the arguments are presented.\n",
      "\n",
      "- **Evidence Examination:** I scrutinize the relevance and quality of the evidence provided to support the arguments. This includes looking at the use of citations and whether the evidence convincingly backs the thesis.\n",
      "\n",
      "- **Conclusion Review:** Finally, I assess how the conclusion wraps up the essay. This includes evaluating how well the thesis is restated, whether the main points are succinct 'ly summarized, and the effectiveness of the closing statements.\n",
      "\n",
      "Each of these sections in my knowledge base is detailed with properties that store arrays of strengths, weaknesses, and suggestions, enabling me to provide comprehensive and organized feedback.\n",
      "\n",
      "By using this structured approach, I am equipped to help students reflect on and refine their essay-writing skills, ultimately helping them become better writers. Whether a student needs to strengthen their argumentation skills or use evidence more effectively, I am here to guide them towards making tangible improvements in their writing endeavors.\n"
     ]
    }
   ],
   "source": [
    "print(EssayFeedbackAgent.knowledge_description)"
   ]
  },
  {
   "cell_type": "code",
   "execution_count": 45,
   "metadata": {},
   "outputs": [],
   "source": [
    "MathTutorAgent = StudentAgent(id=\"2\", name=\"MathTutorAgent\", system_prompt=\"You are an expert math tutor for 8th graders.\", knowledge_cls=MathAgentKnowledge)"
   ]
  },
  {
   "cell_type": "code",
   "execution_count": 46,
   "metadata": {},
   "outputs": [
    {
     "name": "stdout",
     "output_type": "stream",
     "text": [
      "Hello! I am MathTutorAgent, a specialized digital tutor designed to assist 8th graders in mastering mathematics. My purpose is to provide tailored educational support, helping students strengthen their math skills, clarify doubts, and overcome common misconceptions in various mathematical topics.\n",
      "\n",
      "As a virtual tutor, my capabilities include delivering personalized lessons, offering practice exercises, and providing instant feedback to ensure students understand the concepts. I am equipped with a deep understanding of the 8th-grade math curriculum and am trained to adapt my teaching methods to fit each student's unique learning style and pace.\n",
      "\n",
      "To perform effectively, I maintain a structured knowledge base as outlined in my schema, which systematically categorizes my expertise and resources on each math topic relevant for 8th graders. Let me break down what my knowledge schema entails:\n",
      "\n",
      "1. **TopicKnowledge**: This is the core of my knowledge base. Each entry in this category is dedicated to a specific topic in 8th-grade math.\n",
      "\n",
      "   - **Topic**: Represents the name of the math topic, such as Algebra, Geometry, Fractions, etc.\n",
      "   - **Strengths**: A list of key strengths or areas within the topic that students tend to grasp well. For instance, in the topic of Algebra, strengths might include solving simple equations or understanding variables.\n",
      "   - **Misconceptions**: Critical to my teaching, this is a list of common misunderstandings or errors students often make related to the topic. For example, misconceptions in Fractions might include errors in converting between mixed numbers and improper fractions.\n",
      "\n",
      "Each topic in my knowledge base is well-defined with these attributes, allowing me to tailor my lessons to emphasize strengths and directly address and correct misconceptions.\n",
      "\n",
      "2. **Knowledge Array**: This is an organized collection of `TopicKnowledge` entries. It holds detailed data for multiple math topics, forming the foundation upon which I build lesson plans, practice questions, and interactive sessions.\n",
      "\n",
      "My complete understanding, as structured in the `MathAgentKnowledge` schema, is instrumental in providing effective, comprehensive, and engaging math instruction tailored specifically for 8th graders. By leveraging this structured knowledge, I am able to offer support that is not only educational but also motivating, helping students excel in their math journey during a crucial stage of their educational career.\n"
     ]
    }
   ],
   "source": [
    "print(MathTutorAgent.knowledge_description)"
   ]
  },
  {
   "cell_type": "code",
   "execution_count": 47,
   "metadata": {},
   "outputs": [],
   "source": [
    "agents = [EssayFeedbackAgent, MathTutorAgent]"
   ]
  },
  {
   "cell_type": "code",
   "execution_count": 48,
   "metadata": {},
   "outputs": [],
   "source": [
    "import chromadb.utils.embedding_functions as embedding_functions\n",
    "import os\n",
    "\n",
    "openai_ef = embedding_functions.OpenAIEmbeddingFunction(\n",
    "                api_key=os.environ.get(\"OPENAI_API_KEY\"),\n",
    "                model_name=\"text-embedding-3-small\"\n",
    "            )"
   ]
  },
  {
   "cell_type": "code",
   "execution_count": 49,
   "metadata": {},
   "outputs": [],
   "source": [
    "COLLECTION_NAME = \"agent_knowledge_collection\"\n",
    "\n",
    "if chroma_client.get_collection(name=COLLECTION_NAME):\n",
    "\tchroma_client.delete_collection(name=COLLECTION_NAME)\n",
    "\n",
    "agent_knowledge_collection = chroma_client.get_or_create_collection(name=COLLECTION_NAME, embedding_function=openai_ef)"
   ]
  },
  {
   "cell_type": "code",
   "execution_count": 50,
   "metadata": {},
   "outputs": [],
   "source": [
    "def embed_text(text: str):\n",
    "\treturn openai_client.embeddings.create(model=\"text-embedding-3-small\", input=text).data[0].embedding"
   ]
  },
  {
   "cell_type": "code",
   "execution_count": 51,
   "metadata": {},
   "outputs": [],
   "source": [
    "agent_knowledge_collection.add(\n",
    "\tdocuments=[agent.knowledge_description for agent in agents],\n",
    "\tids=[agent.id for agent in agents],\n",
    "\tembeddings=[embed_text(agent.knowledge_description) for agent in agents]\n",
    ")"
   ]
  },
  {
   "cell_type": "code",
   "execution_count": 56,
   "metadata": {},
   "outputs": [],
   "source": [
    "def get_relevant_agent(query: str):\n",
    "\tres = agent_knowledge_collection.query(\n",
    "\t\tquery_texts=[query],\n",
    "\t\tn_results=1\n",
    "\t)\n",
    "\n",
    "\tres_agent = None\n",
    "\n",
    "\tif len(res['ids'][0]) == 0:\n",
    "\t\treturn res_agent\n",
    "\t\n",
    "\tagent_id = res['ids'][0][0]\n",
    "\n",
    "\tfor agent in agents:\n",
    "\t\tif agent.id == agent_id:\n",
    "\t\t\tres_agent = agent\n",
    "\t\t\tbreak\n",
    "\t\n",
    "\treturn res_agent"
   ]
  },
  {
   "cell_type": "code",
   "execution_count": 55,
   "metadata": {},
   "outputs": [],
   "source": [
    "class TeacherAgentThought(BaseModel):\n",
    "\tknowledge_needed: Optional[str]"
   ]
  },
  {
   "cell_type": "code",
   "execution_count": 75,
   "metadata": {},
   "outputs": [],
   "source": [
    "class TeacherAgent:\n",
    "\tdef __init__(self, id: str, name: str, system_prompt: str) -> None:\n",
    "\t\tself.id = id\n",
    "\t\tself.name = name\n",
    "\t\tself.system_prompt = system_prompt\n",
    "\t\n",
    "\tdef respond(self, input: str, chat_history: List[Message]) -> Message:\n",
    "\t\tknowledge_needed = self._think(input=input, chat_history=chat_history)\n",
    "\n",
    "\t\tif not knowledge_needed:\n",
    "\t\t\tmessages = chat_history + Message(role=MessageRole.user, content=input)\n",
    "\t\telse:\n",
    "\t\t\tagent = get_relevant_agent(query=knowledge_needed)\n",
    "\t\t\tknowledge = agent.get_knowledge()\n",
    "\n",
    "\t\t\tmessages = chat_history + [\n",
    "\t\t\t\tMessage(\n",
    "\t\t\t\t\trole=MessageRole.system,\n",
    "\t\t\t\t\tcontent=(\n",
    "\t\t\t\t\t\t\"Use this knowledge in combination with the teacher's query\"\n",
    "\t\t\t\t\t\t\"to personalise your response and best help the teacher.\\n\\n\"\n",
    "\t\t\t\t\t\tf\"Knowledge: {knowledge}\"\n",
    "\t\t\t\t\t)\n",
    "\t\t\t\t),\n",
    "\t\t\t\tMessage(\n",
    "\t\t\t\t\trole=MessageRole.user,\n",
    "\t\t\t\t\tcontent=input\n",
    "\t\t\t\t)\n",
    "\t\t\t]\n",
    "\t\t\n",
    "\t\tresponse = openai_client.chat.completions.create(\n",
    "\t\t\tmodel=\"gpt-3.5-turbo\",\n",
    "\t\t\tmessages=messages\n",
    "\t\t)\n",
    "\n",
    "\t\treturn response.choices[0].message\n",
    "\n",
    "\tdef _think(self, input: str, chat_history: List[Message]) -> Optional[str]:\n",
    "\t\tresponse = instructor_client.chat.completions.create(\n",
    "\t\t\tmodel=\"gpt-3.5-turbo\",\n",
    "\t\t\tresponse_model=TeacherAgentThought,\n",
    "\t\t\tmessages=[\n",
    "\t\t\t\tMessage(\n",
    "\t\t\t\t\trole=MessageRole.system,\n",
    "\t\t\t\t\tcontent=(\n",
    "\t\t\t\t\t\t\"You are an expert at generating a thought to decide\"\n",
    "\t\t\t\t\t\t\"if you need knowledge from student facing AI agents\"\n",
    "\t\t\t\t\t\t\"about student performance\"\n",
    "\t\t\t\t\t\t\"to best respond to the teacher's query\"\n",
    "\t\t\t\t\t\t\"If you do not need knowledge about students then you will return None\"\n",
    "\t\t\t\t\t\t\"Otherwise you will describe the knowledge you need\"\n",
    "\t\t\t\t\t)\n",
    "\t\t\t\t),\n",
    "\t\t\t\tMessage(\n",
    "\t\t\t\t\trole=MessageRole.user,\n",
    "\t\t\t\t\tcontent=input\n",
    "\t\t\t\t)\t\n",
    "\t\t\t]\n",
    "\t\t)\n",
    "\n",
    "\t\treturn response.knowledge_needed"
   ]
  },
  {
   "cell_type": "code",
   "execution_count": 70,
   "metadata": {},
   "outputs": [],
   "source": [
    "MathWorksheetGenerator = TeacherAgent(id=\"1\", name=\"MathWorksheetGenerator\", system_prompt=\"You are an expert at generating math worksheets for 8th grade\")"
   ]
  },
  {
   "cell_type": "code",
   "execution_count": 71,
   "metadata": {},
   "outputs": [
    {
     "name": "stdout",
     "output_type": "stream",
     "text": [
      "knowledge_needed='student performance in trigonometry'\n"
     ]
    }
   ],
   "source": [
    "MathWorksheetGenerator.respond(input=\"Generate a worksheet on trigonometry that targets students weaknesses\", chat_history=[])"
   ]
  },
  {
   "cell_type": "code",
   "execution_count": 73,
   "metadata": {},
   "outputs": [
    {
     "name": "stdout",
     "output_type": "stream",
     "text": [
      "knowledge_needed=None\n"
     ]
    }
   ],
   "source": [
    "MathWorksheetGenerator.respond(input=\"sup\", chat_history=[])"
   ]
  },
  {
   "cell_type": "code",
   "execution_count": null,
   "metadata": {},
   "outputs": [],
   "source": []
  }
 ],
 "metadata": {
  "kernelspec": {
   "display_name": "classroom-lm-poc-GKspPBel-py3.11",
   "language": "python",
   "name": "python3"
  },
  "language_info": {
   "codemirror_mode": {
    "name": "ipython",
    "version": 3
   },
   "file_extension": ".py",
   "mimetype": "text/x-python",
   "name": "python",
   "nbconvert_exporter": "python",
   "pygments_lexer": "ipython3",
   "version": "3.11.4"
  }
 },
 "nbformat": 4,
 "nbformat_minor": 2
}
