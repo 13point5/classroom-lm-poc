{
 "cells": [
  {
   "cell_type": "markdown",
   "metadata": {},
   "source": [
    "# Multi Agent Discovery, Knowledge generation, and Collaboration for Education\n",
    "\n",
    "This notebook shows how AI Agents for Education that are used by students and teachers can:\n",
    "1. Store aggregated structured knowledge about students\n",
    "2. Discover other agents by generating a `thought`\n",
    "3. Collaborate by using the knowledge of other agents to `personalize` the output"
   ]
  },
  {
   "cell_type": "code",
   "execution_count": 1,
   "metadata": {},
   "outputs": [],
   "source": [
    "import json\n",
    "from dotenv import load_dotenv\n",
    "\n",
    "import chromadb\n",
    "import openai\n",
    "import instructor\n",
    "\n",
    "from agents import StudentAgent, StudentAgentStore, TeacherAgent\n",
    "from models import EssayAgentKnowledge, MathAgentKnowledge"
   ]
  },
  {
   "cell_type": "code",
   "execution_count": 2,
   "metadata": {},
   "outputs": [],
   "source": [
    "load_dotenv()\n",
    "\n",
    "chroma_client = chromadb.Client()\n",
    "openai_client = openai.OpenAI()\n",
    "instructor_client = instructor.from_openai(openai_client)"
   ]
  },
  {
   "cell_type": "code",
   "execution_count": 3,
   "metadata": {},
   "outputs": [],
   "source": [
    "EssayFeedbackAgent = StudentAgent(\n",
    "    id=\"1\",\n",
    "    name=\"EssayFeedbackAgent\",\n",
    "    system_prompt=\"You are an expert at providing feedback on essays for 8th graders.\",\n",
    "    knowledge_class=EssayAgentKnowledge,\n",
    "\topenai_client=openai_client,\n",
    "\tinstructor_client=instructor_client\n",
    ")"
   ]
  },
  {
   "cell_type": "code",
   "execution_count": 4,
   "metadata": {},
   "outputs": [],
   "source": [
    "with open(f\"../aggregated-feedback-v0/user1-messages.json\", \"r\") as f:\n",
    "\tuser1_chat_history = json.load(f)"
   ]
  },
  {
   "cell_type": "code",
   "execution_count": 5,
   "metadata": {},
   "outputs": [
    {
     "name": "stdout",
     "output_type": "stream",
     "text": [
      "I want feedback on my essay\n",
      "\n",
      "Grade: 8\n",
      "Topic: The Importance of Environmental Conservation\n",
      "Feedback I want: i want to know how i did with structure\n",
      "Essay: Environmental conservation is very important because it ensures our planet stays healthy. Firstly, protecting natural habitats helps preserve biodiversity. Animals and plants are saved when we look after forests, oceans, and rivers. This is important because it keeps the ecosystem balanced.\n",
      "\n",
      "Secondly, by conserving the environment, we can fight against global warming. Planting trees and reducing pollution can help control the temperature of the Earth. This is crucial for preventing extreme weather like hurricanes and heatwaves.\n",
      "\n",
      "However, some might argue that focusing on economic development is more crucial than conservation. They say that building industries and creating jobs is more important. But, this can be short-sighted because if we harm our environment, it will eventually harm us too.\n",
      "\n",
      "In conclusion, environmental conservation should be a priority for everyone. It not only preserves our natural heritage but also ensures a safe and healthy environment for future generations.\n"
     ]
    }
   ],
   "source": [
    "print(user1_chat_history[0]['content'])"
   ]
  },
  {
   "cell_type": "code",
   "execution_count": 6,
   "metadata": {},
   "outputs": [
    {
     "name": "stdout",
     "output_type": "stream",
     "text": [
      "Your essay on the importance of environmental conservation is well-structured. You have a clear introduction, body paragraphs that expand on the importance of conservation, and a strong conclusion that summarizes your main points. Each paragraph focuses on a specific aspect of environmental conservation, which helps to keep the essay organized and easy to follow.\n",
      "\n",
      "Additionally, you have used transitional phrases such as \"firstly\", \"secondly\", and \"however\" to guide the reader through your argument. This helps to create a logical flow and connect your ideas together.\n",
      "\n",
      "One suggestion for improvement would be to provide more specific examples or statistics to support your points. For example, you could include information on the impact of deforestation on biodiversity or the relationship between carbon emissions and global warming. This would strengthen your argument and provide a more persuasive case for the importance of environmental conservation.\n",
      "\n",
      "Overall, your essay is well-structured and effectively communicates the importance of environmental conservation. Keep up the good work!\n"
     ]
    }
   ],
   "source": [
    "response = EssayFeedbackAgent.respond(input=user1_chat_history[0]['content'], chat_history=[])\n",
    "print(response.content)"
   ]
  },
  {
   "cell_type": "code",
   "execution_count": 7,
   "metadata": {},
   "outputs": [
    {
     "name": "stdout",
     "output_type": "stream",
     "text": [
      "introduction=CriteraFeedback(strengths=['clear introduction'], weaknesses=[], suggestions=[]) structure=CriteraFeedback(strengths=['well-structured', 'clear body paragraphs each focusing on specific aspects of conservation', 'use of transitional phrases enhances logical flow and connection of ideas'], weaknesses=[], suggestions=['provide more specific examples or statistics to support points']) argumentation=CriteraFeedback(strengths=['effective communication of the importance of environmental conservation'], weaknesses=[], suggestions=[]) evidence=CriteraFeedback(strengths=[], weaknesses=[], suggestions=['include specific examples or statistics, e.g., impact of deforestation on biodiversity, relationship between carbon emissions and global warming']) conclusion=CriteraFeedback(strengths=['strong conclusion that summarizes main points'], weaknesses=[], suggestions=[])\n"
     ]
    }
   ],
   "source": [
    "print(EssayFeedbackAgent.knowledge)"
   ]
  },
  {
   "cell_type": "code",
   "execution_count": 8,
   "metadata": {},
   "outputs": [],
   "source": [
    "MathTutorAgent = StudentAgent(\n",
    "    id=\"2\",\n",
    "    name=\"MathTutorAgent\",\n",
    "    system_prompt=\"You are an expert math tutor for 8th graders.\",\n",
    "    knowledge_class=MathAgentKnowledge,\n",
    "    openai_client=openai_client,\n",
    "\tinstructor_client=instructor_client\n",
    ")"
   ]
  },
  {
   "cell_type": "code",
   "execution_count": 9,
   "metadata": {},
   "outputs": [],
   "source": [
    "student_agent_store = StudentAgentStore(chroma_client=chroma_client, openai_client=openai_client)"
   ]
  },
  {
   "cell_type": "code",
   "execution_count": 10,
   "metadata": {},
   "outputs": [],
   "source": [
    "student_agent_store.add_agents([EssayFeedbackAgent, MathTutorAgent])"
   ]
  },
  {
   "cell_type": "code",
   "execution_count": 11,
   "metadata": {},
   "outputs": [],
   "source": [
    "LessonPlanGenerator = TeacherAgent(\n",
    "    id=\"1\",\n",
    "    name=\"LessonPlanGenerator\",\n",
    "    system_prompt=\"You are an expert at generating lesson plans for 8th grade\",\n",
    "    student_agent_store=student_agent_store,\n",
    "    openai_client=openai_client,\n",
    "\tinstructor_client=instructor_client\n",
    ")"
   ]
  },
  {
   "cell_type": "code",
   "execution_count": 12,
   "metadata": {},
   "outputs": [
    {
     "name": "stdout",
     "output_type": "stream",
     "text": [
      "Knowledge needed: student performance in developing thesis statements\n",
      "\n",
      "Agent: EssayFeedbackAgent\n",
      "\n",
      "Agent Knowledge Description: Hello, my name is EssayFeedbackAgent, and I am meticulously designed to assist 8th grade students in improving their essay writing skills. My primary function revolves around providing targeted, constructive feedback on student essays to enhance both their writing style and comprehension of essay structure.\n",
      "\n",
      "**Purpose:**\n",
      "As an expert in reviewing essays, my aim is to support young writers in developing their abilities to articulate thoughts clearly and effectively through written text. I focus on critical essays aspects, including introductions, structure, argumentation, evidence usage, and conclusions.\n",
      "\n",
      "**Capabilities:**\n",
      "1. Analysis of essay components to pinpoint strengths and weaknesses.\n",
      "2. Provision of concise and actionable suggestions that are separate from the identified weaknesses.\n",
      "3. Assistance in understanding core essay-writing elements such as thesis clarity, logical organization, and evidence-based arguments.\n",
      "\n",
      "**Structured Knowledge:**\n",
      "I harbor an intricate knowledge framework specifically tailored for evaluating various key components of an essay. This framework maps out as follows:\n",
      "\n",
      "1. **Introduction**: This includes an analysis focused on the clarity of the thesis statement and how engaging and relevant the opening statements are. Within this category, I provide feedback detailing the strengths of the introduction, areas where it may fall short, and suggestions for improvement.\n",
      "\n",
      "2. **Structure**: Here, I assess the organization and clarity of the essay’s body, including the logical flow of ideas. My feedback outlines what parts of the essay structure are effective, identifies any confusion or disorganization, and offers advice on enhancing the overall coherence of the text.\n",
      "\n",
      "3. **Argumentation**: This pertains to evaluating the strength and clarity of the arguments made within the essay. It also involves examining the use of critical reasoning skills. My role is to guide students in enhancing their argumentative tactics, making their assertions more compelling and logically sound.\n",
      "\n",
      "4. **Evidence**: In this area, I scrutinize the relevance and quality of evidence presented, along with proper usage of citations and references. I advise on how to strengthen the essay’s credibility through more effective or accurate evidence deployment and proper attribution.\n",
      "\n",
      "5. **Conclusion**: This final component involves the reassessment of the thesis in light of the essay's arguments, summarization of key points, and effective closing statements. Feedback includes notes on how effectively the conclusion seals the essay’s arguments and suggestions for leaving a lasting impression on the reader.\n",
      "\n",
      "Each feedback section (introduction, structure, argumentation, evidence, and conclusion) is rigorously formatted to ensure clarity and usefulness. They each include lists of strengths, weaknesses, and additional suggestions for enhancement, all aimed at fostering a deeper understanding and skill improvement in essay writing for students.\n",
      "\n",
      "My ultimate goal is to empower students, helping them feel more confident in their writing skills by providing detailed, understandable, and practical feedback. By dissecting and addressing specific components of their essays, I strive to nurture a solid foundation in effective writing that students can build on in their future educational endeavors.\n",
      "\n",
      "Agent Knowledge: introduction=CriteraFeedback(strengths=['clear introduction'], weaknesses=[], suggestions=[]) structure=CriteraFeedback(strengths=['well-structured', 'clear body paragraphs each focusing on specific aspects of conservation', 'use of transitional phrases enhances logical flow and connection of ideas'], weaknesses=[], suggestions=['provide more specific examples or statistics to support points']) argumentation=CriteraFeedback(strengths=['effective communication of the importance of environmental conservation'], weaknesses=[], suggestions=[]) evidence=CriteraFeedback(strengths=[], weaknesses=[], suggestions=['include specific examples or statistics, e.g., impact of deforestation on biodiversity, relationship between carbon emissions and global warming']) conclusion=CriteraFeedback(strengths=['strong conclusion that summarizes main points'], weaknesses=[], suggestions=[])\n",
      "\n"
     ]
    }
   ],
   "source": [
    "res = LessonPlanGenerator.respond(input=\"How can I teach students to develop strong thesis statements in their essays? Create a detailed lesson plan.\", chat_history=[])"
   ]
  },
  {
   "cell_type": "code",
   "execution_count": 13,
   "metadata": {},
   "outputs": [
    {
     "name": "stdout",
     "output_type": "stream",
     "text": [
      "To help students develop strong thesis statements in their essays, you can create a detailed lesson plan that focuses on the following steps:\n",
      "\n",
      "1. **Introduction (5 minutes)**\n",
      "   - Start the lesson by explaining the definition of a thesis statement. Emphasize that it is the central point or argument that the entire essay will revolve around.\n",
      "   - Provide examples of strong and weak thesis statements to give students a clear understanding of what to aim for.\n",
      "\n",
      "2. **Understanding the Assignment (10 minutes)**\n",
      "   - Teach students how to carefully read and analyze the essay prompt or question. Discuss the importance of identifying key keywords and requirements.\n",
      "   - Have students practice identifying the main topic and purpose of various essay prompts.\n",
      "\n",
      "3. **Brainstorming Ideas (15 minutes)**\n",
      "   - Conduct a brainstorming session where students explore different angles or perspectives related to the essay prompt.\n",
      "   - Encourage students to ask themselves questions like \"What am I trying to prove or argue?\" and \"Why is this topic important?\"\n",
      "\n",
      "4. **Narrowing Down the Focus (10 minutes)**\n",
      "   - Guide students through the process of narrowing down their brainstormed ideas into a specific focus for their thesis statement.\n",
      "   - Discuss the importance of clarity and specificity in thesis statements.\n",
      "\n",
      "5. **Crafting the Thesis Statement (20 minutes)**\n",
      "   - Teach students the components of a strong thesis statement, including being concise, specific, debatable, and relevant to the topic.\n",
      "   - Provide examples and non-examples to illustrate these points.\n",
      "   - Have students practice crafting thesis statements for different essay prompts.\n",
      "\n",
      "6. **Peer Review and Feedback (15 minutes)**\n",
      "   - Have students pair up and exchange thesis statements for peer review.\n",
      "   - Encourage constructive feedback by providing guidelines on what to look for in a strong thesis statement.\n",
      "\n",
      "7. **Reflection and Revision (10 minutes)**\n",
      "   - Ask students to reflect on the feedback they received and revise their thesis statements accordingly.\n",
      "   - Emphasize the importance of multiple drafts and revisions in the writing process.\n",
      "\n",
      "8. **Conclusion (5 minutes)**\n",
      "   - Summarize the key points of the lesson and reiterate the importance of a strong thesis statement in academic writing.\n",
      "   - Encourage students to apply what they have learned in their future essays.\n",
      "\n",
      "By following this detailed lesson plan, students should be equipped with the necessary skills and knowledge to develop strong thesis statements in their essays effectively.\n"
     ]
    }
   ],
   "source": [
    "print(res.content)"
   ]
  }
 ],
 "metadata": {
  "kernelspec": {
   "display_name": "classroom-lm-poc-GKspPBel-py3.11",
   "language": "python",
   "name": "python3"
  },
  "language_info": {
   "codemirror_mode": {
    "name": "ipython",
    "version": 3
   },
   "file_extension": ".py",
   "mimetype": "text/x-python",
   "name": "python",
   "nbconvert_exporter": "python",
   "pygments_lexer": "ipython3",
   "version": "3.11.4"
  }
 },
 "nbformat": 4,
 "nbformat_minor": 2
}
