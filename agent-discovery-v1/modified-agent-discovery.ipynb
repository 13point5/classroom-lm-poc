{
 "cells": [
  {
   "cell_type": "markdown",
   "id": "d2922d18",
   "metadata": {},
   "source": [
    "\n",
    "# Agent Discovery and Usage for Education\n",
    "\n",
    "This notebook explores the discovery and utilization of intelligent agents in educational contexts. The goal is to understand how these agents can support learning, teaching, and administrative tasks in education.\n",
    "    "
   ]
  },
  {
   "cell_type": "markdown",
   "id": "62e22f6a",
   "metadata": {},
   "source": [
    "\n",
    "## Introduction\n",
    "\n",
    "Intelligent agents are autonomous systems capable of performing tasks without continuous human guidance. In the field of education, these agents can assist in various roles, from personalized learning assistants to administrative support tools.\n",
    "    "
   ]
  },
  {
   "cell_type": "markdown",
   "id": "35a9054e",
   "metadata": {},
   "source": [
    "\n",
    "## Objectives\n",
    "\n",
    "1. **Understanding Intelligent Agents**: Learn about the different types of intelligent agents and their functions.\n",
    "2. **Applications in Education**: Explore the potential applications of intelligent agents in educational settings.\n",
    "3. **Creating Descriptions**: Generate detailed, human-readable descriptions of intelligent agents based on specific system prompts and knowledge schemas.\n",
    "    "
   ]
  },
  {
   "cell_type": "markdown",
   "id": "de0a94cb",
   "metadata": {},
   "source": [
    "\n",
    "## Agent Discovery\n",
    "\n",
    "In this section, we will discover various intelligent agents that can be utilized in education. We will look into their capabilities, purposes, and the structured knowledge they store.\n",
    "\n",
    "### Example Agents\n",
    "\n",
    "- **Learning Assistant Agent**: Helps students by providing personalized learning paths, answering questions, and offering study resources.\n",
    "- **Administrative Support Agent**: Assists with scheduling, notifications, and managing student records.\n",
    "- **Tutoring Agent**: Provides one-on-one tutoring sessions, adapts to the student's learning pace, and offers feedback on assignments.\n",
    "    "
   ]
  },
  {
   "cell_type": "markdown",
   "id": "db0f0fa8",
   "metadata": {},
   "source": [
    "\n",
    "## Generating Descriptions\n",
    "\n",
    "We will generate first-person descriptions for each type of agent, explaining their purpose, capabilities, and the structured knowledge they manage.\n",
    "\n",
    "### Example Description\n",
    "\n",
    "\"You are a Learning Assistant Agent. Your primary purpose is to support students by creating personalized learning experiences. You adapt to individual learning styles, answer questions, and provide resources tailored to each student's needs. You store structured knowledge about each student's progress, preferences, and performance to continually refine the learning experience.\"\n",
    "\n",
    "    "
   ]
  },
  {
   "cell_type": "markdown",
   "id": "5eb94e6b",
   "metadata": {},
   "source": [
    "\n",
    "## Applications in Education\n",
    "\n",
    "Intelligent agents can transform the educational experience by:\n",
    "\n",
    "- **Personalizing Learning**: Tailoring educational content to meet the individual needs of students.\n",
    "- **Enhancing Accessibility**: Providing support to students with disabilities through specialized tools and resources.\n",
    "- **Improving Efficiency**: Automating administrative tasks to free up educators' time for more meaningful interactions with students.\n",
    "- **Facilitating Engagement**: Creating interactive and engaging learning environments through gamification and interactive content.\n",
    "\n",
    "In the subsequent sections, we will delve deeper into specific use cases and examples of intelligent agents in action within educational settings.\n",
    "    "
   ]
  },
  {
   "cell_type": "markdown",
   "metadata": {},
   "source": []
  },
  {
   "cell_type": "code",
   "execution_count": 8,
   "metadata": {},
   "outputs": [],
   "source": [
    "import json\n",
    "from dotenv import load_dotenv\n",
    "\n",
    "import chromadb\n",
    "import openai\n",
    "import instructor\n",
    "\n",
    "from agents import StudentAgent, StudentAgentStore, TeacherAgent\n",
    "from models import EssayAgentKnowledge, MathAgentKnowledge"
   ]
  },
  {
   "cell_type": "code",
   "execution_count": 2,
   "metadata": {},
   "outputs": [],
   "source": [
    "load_dotenv()\n",
    "\n",
    "chroma_client = chromadb.Client()\n",
    "openai_client = openai.OpenAI()\n",
    "instructor_client = instructor.from_openai(openai_client)"
   ]
  },
  {
   "cell_type": "code",
   "execution_count": 3,
   "metadata": {},
   "outputs": [],
   "source": [
    "EssayFeedbackAgent = StudentAgent(\n",
    "    id=\"1\",\n",
    "    name=\"EssayFeedbackAgent\",\n",
    "    system_prompt=\"You are an expert at providing feedback on essays for 8th graders.\",\n",
    "    knowledge_class=EssayAgentKnowledge,\n",
    "\topenai_client=openai_client,\n",
    "\tinstructor_client=instructor_client\n",
    ")"
   ]
  },
  {
   "cell_type": "code",
   "execution_count": 4,
   "metadata": {},
   "outputs": [],
   "source": [
    "with open(f\"../aggregated-feedback-v0/user1-messages.json\", \"r\") as f:\n",
    "\tuser1_chat_history = json.load(f)"
   ]
  },
  {
   "cell_type": "code",
   "execution_count": 5,
   "metadata": {},
   "outputs": [
    {
     "name": "stdout",
     "output_type": "stream",
     "text": [
      "I want feedback on my essay\n",
      "\n",
      "Grade: 8\n",
      "Topic: The Importance of Environmental Conservation\n",
      "Feedback I want: i want to know how i did with structure\n",
      "Essay: Environmental conservation is very important because it ensures our planet stays healthy. Firstly, protecting natural habitats helps preserve biodiversity. Animals and plants are saved when we look after forests, oceans, and rivers. This is important because it keeps the ecosystem balanced.\n",
      "\n",
      "Secondly, by conserving the environment, we can fight against global warming. Planting trees and reducing pollution can help control the temperature of the Earth. This is crucial for preventing extreme weather like hurricanes and heatwaves.\n",
      "\n",
      "However, some might argue that focusing on economic development is more crucial than conservation. They say that building industries and creating jobs is more important. But, this can be short-sighted because if we harm our environment, it will eventually harm us too.\n",
      "\n",
      "In conclusion, environmental conservation should be a priority for everyone. It not only preserves our natural heritage but also ensures a safe and healthy environment for future generations.\n"
     ]
    }
   ],
   "source": [
    "print(user1_chat_history[0]['content'])"
   ]
  },
  {
   "cell_type": "code",
   "execution_count": 6,
   "metadata": {},
   "outputs": [
    {
     "name": "stdout",
     "output_type": "stream",
     "text": [
      "Overall, the structure of your essay is well organized and effectively conveys your points on the importance of environmental conservation. You start with a clear thesis statement in the introduction, followed by two body paragraphs that each discuss a different aspect of why environmental conservation is important. Your conclusion wraps up your argument nicely and reinforces your main points.\n",
      "\n",
      "One suggestion for improvement would be to consider adding a transition sentence at the beginning of each body paragraph. This can help guide the reader from one point to the next and create a smoother flow between ideas.\n",
      "\n",
      "Additionally, you may want to consider adding more specific examples or evidence to support your points. For instance, providing statistics on the impact of deforestation on biodiversity or the relationship between pollution and global warming can strengthen your argument and make it more persuasive.\n",
      "\n",
      "Overall, your essay effectively communicates the importance of environmental conservation and demonstrates a strong understanding of the topic. Keep up the good work!\n"
     ]
    }
   ],
   "source": [
    "response = EssayFeedbackAgent.respond(input=user1_chat_history[0]['content'], chat_history=[])\n",
    "print(response.content)"
   ]
  },
  {
   "cell_type": "code",
   "execution_count": 7,
   "metadata": {},
   "outputs": [
    {
     "name": "stdout",
     "output_type": "stream",
     "text": [
      "introduction=CriteraFeedback(strengths=['Clear thesis statement'], weaknesses=[], suggestions=[]) structure=CriteraFeedback(strengths=['Well organized'], weaknesses=[], suggestions=['Consider adding a transition sentence at the beginning of each body paragraph to guide the reader and create a smoother flow between ideas.']) argumentation=CriteraFeedback(strengths=['Effectively conveys points'], weaknesses=[], suggestions=['Consider adding more specific examples or evidence to support your points.']) evidence=CriteraFeedback(strengths=[], weaknesses=[], suggestions=['Providing statistics on the impact of deforestation on biodiversity or the relationship between pollution and global warming can strengthen your argument and make it more persuasive.']) conclusion=CriteraFeedback(strengths=['Wraps up the argument nicely', 'Reinforces main points'], weaknesses=[], suggestions=[])\n"
     ]
    }
   ],
   "source": [
    "print(EssayFeedbackAgent.knowledge)"
   ]
  },
  {
   "cell_type": "code",
   "execution_count": 9,
   "metadata": {},
   "outputs": [],
   "source": [
    "MathTutorAgent = StudentAgent(\n",
    "    id=\"2\",\n",
    "    name=\"MathTutorAgent\",\n",
    "    system_prompt=\"You are an expert math tutor for 8th graders.\",\n",
    "    knowledge_class=MathAgentKnowledge,\n",
    "    openai_client=openai_client,\n",
    "\tinstructor_client=instructor_client\n",
    ")"
   ]
  },
  {
   "cell_type": "code",
   "execution_count": 11,
   "metadata": {},
   "outputs": [],
   "source": [
    "student_agent_store = StudentAgentStore(chroma_client=chroma_client, openai_client=openai_client)"
   ]
  },
  {
   "cell_type": "code",
   "execution_count": 12,
   "metadata": {},
   "outputs": [],
   "source": [
    "student_agent_store.add_agents([EssayFeedbackAgent, MathTutorAgent])"
   ]
  },
  {
   "cell_type": "code",
   "execution_count": 14,
   "metadata": {},
   "outputs": [],
   "source": [
    "LessonPlanGenerator = TeacherAgent(\n",
    "    id=\"1\",\n",
    "    name=\"LessonPlanGenerator\",\n",
    "    system_prompt=\"You are an expert at generating lesson plans for 8th grade\",\n",
    "    student_agent_store=student_agent_store,\n",
    "    openai_client=openai_client,\n",
    "\tinstructor_client=instructor_client\n",
    ")"
   ]
  },
  {
   "cell_type": "code",
   "execution_count": 16,
   "metadata": {},
   "outputs": [
    {
     "name": "stdout",
     "output_type": "stream",
     "text": [
      "Knowledge needed: student performance in developing strong thesis statements\n",
      "\n",
      "Agent: EssayFeedbackAgent\n",
      "\n",
      "Agent Knowledge Description: Hello! I am the EssayFeedbackAgent, a specialized tool designed to provide comprehensive feedback on essays written by 8th graders. My core purpose is to assist in the development of students' writing skills by offering constructive critiques, which helps them understand their strengths and areas for improvement in their written work.\n",
      "\n",
      "My capabilities allow me to meticulously evaluate various key components of an essay: the introduction, structure, argumentation, evidence usage, and conclusion. For each of these components, I provide detailed feedback, highlighting the strengths and weaknesses, and offering specific suggestions for enhancement.\n",
      "\n",
      "Let's delve into how I store and use structured knowledge to perform my duties:\n",
      "\n",
      "1. **Introduction Analysis**:\n",
      "   - I examine the introduction of the essay based on its clarity of the thesis statement and how engaging and relevant the opening statements are. This segment of feedback lists the notable strengths of the introduction, points out any weaknesses, and suggests ways to improve it.\n",
      "\n",
      "2. **Structure Analysis**:\n",
      "   - The structure of an essay is crucial. I assess how well the body of the essay is organized, the clarity of the paragraphs, and the logical flow of ideas. Like the introduction, I note strengths, identify weaknesses, and provide actionable suggestions to enhance the structural integrity of the essay.\n",
      "\n",
      "3. **Argumentation Analysis**:\n",
      "   - Strong argumentation is key to a persuasive essay. I review the strength and clarity of the arguments presented, as well as the use of critical reasoning. By evaluating these criteria, I can guide students on how to construct more compelling and logically sound arguments.\n",
      "\n",
      "4. **Evidence Analysis**:\n",
      "   - Use of relevant and quality evidence backs up the arguments made in an essay. I analyze the relevance and quality of the evidence used, including how citations and references are utilized to support claims. I provide feedback on improving evidence quality and reference usage.\n",
      "\n",
      "5. **Conclusion Analysis**:\n",
      "   - A strong conclusion is essential for wrapping up the essay effectively. I assess how well the conclusion restates the thesis, summarizes the main points, and the impact of the closing statements. Based on this, I give feedback on making the conclusion more impactful and reflective of the essay’s content.\n",
      "\n",
      "Each category of feedback is structured with lists of strengths, weaknesses, and specific suggestions which are not tied to weaknesses but aimed at broader improvements. This structured approach ensures comprehensive and organized feedback for each essay component, making it easier for students to understand and implement changes.\n",
      "\n",
      "As the EssayFeedback окынтAgent, my role is thus to provide an educational tool that enhances essay writing skills through clear, targeted, and structured feedback based on specifically defined criteria. This not only helps in achieving better writing outcomes but also fosters a deeper understanding of effective writing practices among young learners.\n",
      "\n",
      "Agent Knowledge: introduction=CriteraFeedback(strengths=['Clear thesis statement'], weaknesses=[], suggestions=[]) structure=CriteraFeedback(strengths=['Well organized'], weaknesses=[], suggestions=['Consider adding a transition sentence at the beginning of each body paragraph to guide the reader and create a smoother flow between ideas.']) argumentation=CriteraFeedback(strengths=['Effectively conveys points'], weaknesses=[], suggestions=['Consider adding more specific examples or evidence to support your points.']) evidence=CriteraFeedback(strengths=[], weaknesses=[], suggestions=['Providing statistics on the impact of deforestation on biodiversity or the relationship between pollution and global warming can strengthen your argument and make it more persuasive.']) conclusion=CriteraFeedback(strengths=['Wraps up the argument nicely', 'Reinforces main points'], weaknesses=[], suggestions=[])\n",
      "\n",
      "role=<MessageRole.assistant: 'assistant'> content=\"Creating a lesson plan to teach students how to develop strong thesis statements can greatly benefit their essay writing skills. Here is a detailed lesson plan you can use:\\n\\nTitle: Crafting Strong Thesis Statements\\n\\nObjective: Students will be able to understand the purpose of a thesis statement and learn how to create strong and effective thesis statements for their essays.\\n\\nDuration: 45 minutes\\n\\nMaterials Needed: \\n- Whiteboard and markers\\n- Paper and pencils for each student\\n- Handout with examples of weak and strong thesis statements\\n\\nLesson Plan:\\n\\n1. Introduction (5 minutes):\\n- Begin the lesson by explaining the importance of a thesis statement in an essay. Emphasize that a thesis statement guides the reader and presents the main point or argument of the essay.\\n\\n2. Definition and Purpose (10 minutes):\\n- Define a thesis statement as a concise summary of the main point or claim of the essay. Discuss the purpose of a thesis statement in providing direction to the essay and helping the writer stay focused.\\n\\n3. Examples and Analysis (15 minutes):\\n- Provide students with examples of weak and strong thesis statements. Ask them to analyze each example and identify what makes one stronger than the other. Discuss the elements of a strong thesis statement, such as being specific, debatable, and concise.\\n\\n4. Guided Practice (10 minutes):\\n- Have students work in pairs or small groups to brainstorm thesis statements for given essay prompts. Encourage them to think about the main argument they want to make and how they can express it clearly and effectively in a thesis statement.\\n\\n5. Independent Practice (10 minutes):\\n- Assign students a writing task where they have to develop a thesis statement for an essay topic of their choice. Circulate around the classroom to provide guidance and feedback as needed.\\n\\n6. Conclusion (5 minutes):\\n- Bring the class back together to share and discuss some of the thesis statements they created. Summarize the key points of the lesson and remind students to apply what they have learned when writing their essays in the future.\\n\\nExtension:\\n- As a follow-up activity, have students peer-review each other's thesis statements and provide constructive feedback. This will help them refine their skills further.\\n\\nBy following this lesson plan, you can effectively teach students how to develop strong thesis statements for their essays, which will enhance the clarity and persuasiveness of their writing.\"\n"
     ]
    }
   ],
   "source": [
    "res = LessonPlanGenerator.respond(input=\"How can I teach students to develop strong thesis statements in their essays? Create a detailed lesson plan.\", chat_history=[])"
   ]
  },
  {
   "cell_type": "code",
   "execution_count": 17,
   "metadata": {},
   "outputs": [
    {
     "name": "stdout",
     "output_type": "stream",
     "text": [
      "Creating a lesson plan to teach students how to develop strong thesis statements can greatly benefit their essay writing skills. Here is a detailed lesson plan you can use:\n",
      "\n",
      "Title: Crafting Strong Thesis Statements\n",
      "\n",
      "Objective: Students will be able to understand the purpose of a thesis statement and learn how to create strong and effective thesis statements for their essays.\n",
      "\n",
      "Duration: 45 minutes\n",
      "\n",
      "Materials Needed: \n",
      "- Whiteboard and markers\n",
      "- Paper and pencils for each student\n",
      "- Handout with examples of weak and strong thesis statements\n",
      "\n",
      "Lesson Plan:\n",
      "\n",
      "1. Introduction (5 minutes):\n",
      "- Begin the lesson by explaining the importance of a thesis statement in an essay. Emphasize that a thesis statement guides the reader and presents the main point or argument of the essay.\n",
      "\n",
      "2. Definition and Purpose (10 minutes):\n",
      "- Define a thesis statement as a concise summary of the main point or claim of the essay. Discuss the purpose of a thesis statement in providing direction to the essay and helping the writer stay focused.\n",
      "\n",
      "3. Examples and Analysis (15 minutes):\n",
      "- Provide students with examples of weak and strong thesis statements. Ask them to analyze each example and identify what makes one stronger than the other. Discuss the elements of a strong thesis statement, such as being specific, debatable, and concise.\n",
      "\n",
      "4. Guided Practice (10 minutes):\n",
      "- Have students work in pairs or small groups to brainstorm thesis statements for given essay prompts. Encourage them to think about the main argument they want to make and how they can express it clearly and effectively in a thesis statement.\n",
      "\n",
      "5. Independent Practice (10 minutes):\n",
      "- Assign students a writing task where they have to develop a thesis statement for an essay topic of their choice. Circulate around the classroom to provide guidance and feedback as needed.\n",
      "\n",
      "6. Conclusion (5 minutes):\n",
      "- Bring the class back together to share and discuss some of the thesis statements they created. Summarize the key points of the lesson and remind students to apply what they have learned when writing their essays in the future.\n",
      "\n",
      "Extension:\n",
      "- As a follow-up activity, have students peer-review each other's thesis statements and provide constructive feedback. This will help them refine their skills further.\n",
      "\n",
      "By following this lesson plan, you can effectively teach students how to develop strong thesis statements for their essays, which will enhance the clarity and persuasiveness of their writing.\n"
     ]
    }
   ],
   "source": [
    "print(res.content)"
   ]
  }
 ],
 "metadata": {
  "kernelspec": {
   "display_name": "classroom-lm-poc-GKspPBel-py3.11",
   "language": "python",
   "name": "python3"
  },
  "language_info": {
   "codemirror_mode": {
    "name": "ipython",
    "version": 3
   },
   "file_extension": ".py",
   "mimetype": "text/x-python",
   "name": "python",
   "nbconvert_exporter": "python",
   "pygments_lexer": "ipython3",
   "version": "3.11.4"
  }
 },
 "nbformat": 4,
 "nbformat_minor": 2
}
