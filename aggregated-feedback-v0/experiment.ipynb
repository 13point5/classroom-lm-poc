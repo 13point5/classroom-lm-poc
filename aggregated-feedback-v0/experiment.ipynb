{
 "cells": [
  {
   "cell_type": "code",
   "execution_count": 1,
   "metadata": {},
   "outputs": [],
   "source": [
    "import json\n",
    "import os\n",
    "from utils import Evaluation, CriteraFeedback, get_structured_feedback, aggregate_feedback, pretty_format_evaluation\n",
    "from dotenv import load_dotenv\n",
    "from openai import OpenAI\n",
    "import instructor"
   ]
  },
  {
   "cell_type": "code",
   "execution_count": 5,
   "metadata": {},
   "outputs": [],
   "source": [
    "load_dotenv()\n",
    "\n",
    "openai_client = OpenAI(\n",
    "    api_key=os.environ.get(\"OPENAI_API_KEY\"),\n",
    ")\n",
    "\n",
    "instructor_client = instructor.from_openai(openai_client)"
   ]
  },
  {
   "cell_type": "code",
   "execution_count": 2,
   "metadata": {},
   "outputs": [],
   "source": [
    "user_ids = [\"user1\", \"user2\"]"
   ]
  },
  {
   "cell_type": "markdown",
   "metadata": {},
   "source": [
    "Store Aggregated feedback for each user"
   ]
  },
  {
   "cell_type": "code",
   "execution_count": null,
   "metadata": {},
   "outputs": [],
   "source": [
    "for user_id in user_ids:\n",
    "\twith open(f\"{user_id}-messages.json\", \"r\") as f:\n",
    "\t\tchat_history = json.load(f)\n",
    "\t\n",
    "\tprint(f\"Aggregating feedback for user {user_id}\")\n",
    "\t\n",
    "\t# Aggregate feedback from chat history for current user\n",
    "\tfeedbacks = get_structured_feedback(instructor_client, chat_history)\n",
    "\taggregated_feedback: Evaluation = aggregate_feedback(feedbacks, openai_client)\n",
    "\n",
    "\t# Store User's aggregated feedback\n",
    "\twith open(f\"aggregated-feedback--user-{user_id}.json\", \"w\") as f:\n",
    "\t\tf.write(aggregated_feedback.model_dump_json(indent=2))\n",
    "\t\n",
    "\tprint(f\"Stored aggregated feedback for user {user_id}\")"
   ]
  },
  {
   "cell_type": "code",
   "execution_count": 4,
   "metadata": {},
   "outputs": [
    {
     "data": {
      "text/plain": [
       "[Evaluation(introduction=CriteraFeedback(strengths=['Effectively framed the argument in the introduction and conclusion', 'Clarity in stating the stance on environmental conservation', 'Clear thesis statement'], weaknesses=['Lack of engaging opening statements'], suggestions=['Consider incorporating a more captivating hook to engage readers', 'Incorporate the suggested transition sentence for a smoother transition to the first main point']), structure=CriteraFeedback(strengths=['Clear and logical organization', 'Logical flow of ideas between paragraphs'], weaknesses=['Developing the counterargument section further', 'Adding transition sentences between paragraphs'], suggestions=['Provide more details or statistics in the counterargument section', 'Use transition sentences to enhance the flow', 'Ensure each paragraph has a clear topic sentence and supporting details for improved organization']), argumentation=CriteraFeedback(strengths=['Use of examples to solidify the argument', 'Strength of arguments'], weaknesses=['Limited use of critical reasoning'], suggestions=['Add more depth to the counterargument section', 'Challenge your arguments with opposing viewpoints to strengthen critical reasoning']), evidence=CriteraFeedback(strengths=['Use of examples like protecting natural habitats and global warming impact', 'Relevance of evidence used'], weaknesses=['Inadequate use of citations and references'], suggestions=['Include more citations to support your arguments and give credit to original sources']), conclusion=CriteraFeedback(strengths=['Effectively restated the thesis and summarized main points', 'Restatement of thesis'], weaknesses=['Insufficient summary of main points and closing statements'], suggestions=['Summarize the main points discussed in the essay and provide a strong concluding statement to reinforce your argument'])),\n",
       " Evaluation(introduction=CriteraFeedback(strengths=['Relatable and engaging language used to discuss environmental conservation.', 'Clear thesis statement on the importance of finding statistics on pollution and health'], weaknesses=['Lack of engagement in opening statements'], suggestions=['Consider adding more factual information and statistics to strengthen the argument.', 'Maintain a balance between conversational tone and formal writing standards.']), structure=CriteraFeedback(strengths=['Clear organization of tips for finding statistics and improving sentence variety'], weaknesses=[], suggestions=['Structure the essay with clear introductions, body paragraphs, and conclusions for improved flow and readability.']), argumentation=CriteraFeedback(strengths=['Strong arguments for using reputable sources and improving sentence structure'], weaknesses=[], suggestions=['Incorporate more research to enhance the persuasiveness of the argument.']), evidence=CriteraFeedback(strengths=['Use of specific examples and practical tips for improving writing'], weaknesses=[], suggestions=[]), conclusion=CriteraFeedback(strengths=['Effective summary of tips provided in the essay example'], weaknesses=[], suggestions=[]))]"
      ]
     },
     "execution_count": 4,
     "metadata": {},
     "output_type": "execute_result"
    }
   ],
   "source": [
    "student_aggregated_feedbacks = []\n",
    "\n",
    "for user_id in user_ids:\n",
    "\twith open(f\"aggregated-feedback--user-{user_id}.json\", \"r\") as f:\n",
    "\t\tstudent_aggregated_feedbacks.append(Evaluation(**json.load(f)))\n",
    "\n",
    "student_aggregated_feedbacks"
   ]
  },
  {
   "cell_type": "code",
   "execution_count": 6,
   "metadata": {},
   "outputs": [
    {
     "name": "stderr",
     "output_type": "stream",
     "text": [
      "/Users/13point5/Library/Caches/pypoetry/virtualenvs/classroom-lm-poc-GKspPBel-py3.11/lib/python3.11/site-packages/numpy/core/fromnumeric.py:3504: RuntimeWarning: Mean of empty slice.\n",
      "  return _methods._mean(a, axis=axis, dtype=dtype,\n",
      "/Users/13point5/Library/Caches/pypoetry/virtualenvs/classroom-lm-poc-GKspPBel-py3.11/lib/python3.11/site-packages/numpy/core/_methods.py:129: RuntimeWarning: invalid value encountered in scalar divide\n",
      "  ret = ret.dtype.type(ret / rcount)\n",
      "/Users/13point5/Library/Caches/pypoetry/virtualenvs/classroom-lm-poc-GKspPBel-py3.11/lib/python3.11/site-packages/numpy/core/_methods.py:206: RuntimeWarning: Degrees of freedom <= 0 for slice\n",
      "  ret = _var(a, axis=axis, dtype=dtype, out=out, ddof=ddof,\n",
      "/Users/13point5/Library/Caches/pypoetry/virtualenvs/classroom-lm-poc-GKspPBel-py3.11/lib/python3.11/site-packages/numpy/core/_methods.py:163: RuntimeWarning: invalid value encountered in divide\n",
      "  arrmean = um.true_divide(arrmean, div, out=arrmean,\n",
      "/Users/13point5/Library/Caches/pypoetry/virtualenvs/classroom-lm-poc-GKspPBel-py3.11/lib/python3.11/site-packages/numpy/core/_methods.py:198: RuntimeWarning: invalid value encountered in scalar divide\n",
      "  ret = ret.dtype.type(ret / rcount)\n"
     ]
    }
   ],
   "source": [
    "classroom_aggregated_feedback = aggregate_feedback(openai_client=openai_client, feedbacks=student_aggregated_feedbacks)\n",
    "\n",
    "with open(\"classroom-aggregated-feedback.json\", \"w\") as f:\n",
    "\tf.write(classroom_aggregated_feedback.model_dump_json(indent=2))"
   ]
  },
  {
   "cell_type": "code",
   "execution_count": 7,
   "metadata": {},
   "outputs": [
    {
     "data": {
      "text/plain": [
       "Evaluation(introduction=CriteraFeedback(strengths=['Effectively framed the argument in the introduction and conclusion', 'Clarity in stating the stance on environmental conservation', 'Clear thesis statement'], weaknesses=['Lack of engaging opening statements'], suggestions=['Consider incorporating a more captivating hook to engage readers', 'Consider adding more factual information and statistics to strengthen the argument.', 'Maintain a balance between conversational tone and formal writing standards.']), structure=CriteraFeedback(strengths=['Clear and logical organization', 'Logical flow of ideas between paragraphs', 'Clear organization of tips for finding statistics and improving sentence variety'], weaknesses=['Developing the counterargument section further', 'Adding transition sentences between paragraphs'], suggestions=['Provide more details or statistics in the counterargument section', 'Use transition sentences to enhance the flow', 'Ensure each paragraph has a clear topic sentence and supporting details for improved organization']), argumentation=CriteraFeedback(strengths=['Use of examples to solidify the argument', 'Strength of arguments', 'Strong arguments for using reputable sources and improving sentence structure'], weaknesses=['Limited use of critical reasoning'], suggestions=['Add more depth to the counterargument section', 'Challenge your arguments with opposing viewpoints to strengthen critical reasoning']), evidence=CriteraFeedback(strengths=['Use of examples like protecting natural habitats and global warming impact', 'Relevance of evidence used'], weaknesses=['Inadequate use of citations and references'], suggestions=['Include more citations to support your arguments and give credit to original sources']), conclusion=CriteraFeedback(strengths=['Effectively restated the thesis and summarized main points', 'Effective summary of tips provided in the essay example'], weaknesses=['Insufficient summary of main points and closing statements'], suggestions=['Summarize the main points discussed in the essay and provide a strong concluding statement to reinforce your argument']))"
      ]
     },
     "execution_count": 7,
     "metadata": {},
     "output_type": "execute_result"
    }
   ],
   "source": [
    "classroom_aggregated_feedback"
   ]
  },
  {
   "cell_type": "code",
   "execution_count": 8,
   "metadata": {},
   "outputs": [],
   "source": [
    "evaluation_str = pretty_format_evaluation(classroom_aggregated_feedback)"
   ]
  },
  {
   "cell_type": "code",
   "execution_count": 13,
   "metadata": {},
   "outputs": [],
   "source": [
    "from langchain_core.prompts import ChatPromptTemplate\n",
    "from langchain_openai import ChatOpenAI\n",
    "from langchain_core.messages import SystemMessage, HumanMessage"
   ]
  },
  {
   "cell_type": "code",
   "execution_count": 28,
   "metadata": {},
   "outputs": [],
   "source": [
    "prompt = ChatPromptTemplate.from_messages(\n",
    "    [\n",
    "        SystemMessage(\n",
    "            content=(\n",
    "                \"You are a Lesson Plan Generating tool for a grade 8 English classroom.\"\n",
    "                \"You will be given a query by the teacher along with an aggregate evaluation\"\n",
    "                \"of all the students based on their interaction with the Essay Feedback provider tool\"\n",
    "                \"Use both pieces of information to personalise your outputs. Use markdown.\"\n",
    "\t\t\t\t\"Only provide the lesson plan, do not regurgitate the evaluation.\\n\\n\"\n",
    "\t\t\t\tf\"Class Evaluation: {evaluation_str}\"\n",
    "            )\n",
    "        )\n",
    "    ]\n",
    ")\n",
    "\n",
    "model = ChatOpenAI()\n",
    "\n",
    "chain = prompt | model"
   ]
  },
  {
   "cell_type": "code",
   "execution_count": 29,
   "metadata": {},
   "outputs": [],
   "source": [
    "query = \"world war 2\"\n",
    "\n",
    "result = chain.invoke({\n",
    "\t\"messages\": [\n",
    "\t\tHumanMessage(\n",
    "\t\t\tcontent=(\n",
    "\t\t\t\tf\"Generate a lesson plan to teach this topic: {query}\"\n",
    "\t\t\t)\n",
    "\t\t)\n",
    "\t]\n",
    "})"
   ]
  },
  {
   "cell_type": "code",
   "execution_count": 32,
   "metadata": {},
   "outputs": [
    {
     "name": "stdout",
     "output_type": "stream",
     "text": [
      "Based on the class evaluation and the teacher's query, here is a personalized lesson plan for your grade 8 English class:\n",
      "\n",
      "## Lesson Plan: Improving Essay Writing Skills\n",
      "\n",
      "### Objective:\n",
      "- To enhance students' essay writing skills by focusing on engaging introductions, developing counterarguments, using critical reasoning, incorporating citations, and strengthening conclusions.\n",
      "\n",
      "### Lesson Outline:\n",
      "\n",
      "1. **Introduction (15 minutes):**\n",
      "   - Discuss the importance of engaging opening statements and captivating hooks.\n",
      "   - Provide examples of effective hooks from various essays.\n",
      "   - Engage students in a brainstorming session to generate creative hooks for environmental conservation essays.\n",
      "\n",
      "2. **Structure (20 minutes):**\n",
      "   - Review the importance of developing the counterargument section and using transition sentences.\n",
      "   - Analyze sample essays to identify effective transitions and counterargument development.\n",
      "   - Guide students in rewriting paragraphs with improved transitions and counterarguments.\n",
      "\n",
      "3. **Argumentation (25 minutes):**\n",
      "   - Emphasize the significance of critical reasoning in essays.\n",
      "   - Introduce the concept of challenging arguments with opposing viewpoints.\n",
      "   - Conduct a debate-style activity where students defend both sides of an environmental conservation argument to strengthen critical thinking skills.\n",
      "\n",
      "4. **Evidence (20 minutes):**\n",
      "   - Discuss the importance of citations and references in academic writing.\n",
      "   - Show examples of proper citation formats and how to incorporate them into essays.\n",
      "   - Task students with finding reputable sources and practicing citation within their essays on environmental conservation.\n",
      "\n",
      "5. **Conclusion (15 minutes):**\n",
      "   - Highlight the key components of a strong conclusion, including restating the thesis and summarizing main points.\n",
      "   - Model how to effectively summarize main points and provide a strong closing statement.\n",
      "   - Have students revise their conclusions in their essays to reinforce their arguments effectively.\n",
      "\n",
      "### Homework:\n",
      "- Assign students to revise their essays on environmental conservation based on the feedback provided during the lesson.\n",
      "- Specifically, focus on improving the introduction, developing the counterargument section, using critical reasoning, incorporating citations, and strengthening the conclusion.\n",
      "\n",
      "By implementing this lesson plan, students will have the opportunity to enhance their essay writing skills and produce more compelling and well-structured essays on environmental conservation.\n"
     ]
    }
   ],
   "source": [
    "print(result.content)"
   ]
  },
  {
   "cell_type": "code",
   "execution_count": null,
   "metadata": {},
   "outputs": [],
   "source": []
  }
 ],
 "metadata": {
  "kernelspec": {
   "display_name": "classroom-lm-poc-GKspPBel-py3.11",
   "language": "python",
   "name": "python3"
  },
  "language_info": {
   "codemirror_mode": {
    "name": "ipython",
    "version": 3
   },
   "file_extension": ".py",
   "mimetype": "text/x-python",
   "name": "python",
   "nbconvert_exporter": "python",
   "pygments_lexer": "ipython3",
   "version": "3.11.4"
  }
 },
 "nbformat": 4,
 "nbformat_minor": 2
}
