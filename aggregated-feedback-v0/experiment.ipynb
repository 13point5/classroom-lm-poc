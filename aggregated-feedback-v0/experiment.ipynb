{
 "cells": [
  {
   "cell_type": "code",
   "execution_count": 1,
   "metadata": {},
   "outputs": [],
   "source": [
    "import json\n",
    "import os\n",
    "from utils import Evaluation, CriteraFeedback, get_structured_feedback, aggregate_feedback, pretty_format_evaluation\n",
    "from dotenv import load_dotenv\n",
    "from openai import OpenAI\n",
    "import instructor"
   ]
  },
  {
   "cell_type": "code",
   "execution_count": 2,
   "metadata": {},
   "outputs": [],
   "source": [
    "load_dotenv()\n",
    "\n",
    "openai_client = OpenAI(\n",
    "    api_key=os.environ.get(\"OPENAI_API_KEY\"),\n",
    ")\n",
    "\n",
    "instructor_client = instructor.from_openai(openai_client)"
   ]
  },
  {
   "cell_type": "code",
   "execution_count": 3,
   "metadata": {},
   "outputs": [],
   "source": [
    "user_ids = [\"user1\", \"user2\"]"
   ]
  },
  {
   "cell_type": "markdown",
   "metadata": {},
   "source": [
    "Store Aggregated feedback for each user"
   ]
  },
  {
   "cell_type": "code",
   "execution_count": 4,
   "metadata": {},
   "outputs": [
    {
     "name": "stdout",
     "output_type": "stream",
     "text": [
      "Aggregating feedback for user user1\n"
     ]
    },
    {
     "name": "stderr",
     "output_type": "stream",
     "text": [
      "/Users/13point5/Library/Caches/pypoetry/virtualenvs/classroom-lm-poc-GKspPBel-py3.11/lib/python3.11/site-packages/numpy/core/fromnumeric.py:3504: RuntimeWarning: Mean of empty slice.\n",
      "  return _methods._mean(a, axis=axis, dtype=dtype,\n",
      "/Users/13point5/Library/Caches/pypoetry/virtualenvs/classroom-lm-poc-GKspPBel-py3.11/lib/python3.11/site-packages/numpy/core/_methods.py:129: RuntimeWarning: invalid value encountered in scalar divide\n",
      "  ret = ret.dtype.type(ret / rcount)\n",
      "/Users/13point5/Library/Caches/pypoetry/virtualenvs/classroom-lm-poc-GKspPBel-py3.11/lib/python3.11/site-packages/numpy/core/_methods.py:206: RuntimeWarning: Degrees of freedom <= 0 for slice\n",
      "  ret = _var(a, axis=axis, dtype=dtype, out=out, ddof=ddof,\n",
      "/Users/13point5/Library/Caches/pypoetry/virtualenvs/classroom-lm-poc-GKspPBel-py3.11/lib/python3.11/site-packages/numpy/core/_methods.py:163: RuntimeWarning: invalid value encountered in divide\n",
      "  arrmean = um.true_divide(arrmean, div, out=arrmean,\n",
      "/Users/13point5/Library/Caches/pypoetry/virtualenvs/classroom-lm-poc-GKspPBel-py3.11/lib/python3.11/site-packages/numpy/core/_methods.py:198: RuntimeWarning: invalid value encountered in scalar divide\n",
      "  ret = ret.dtype.type(ret / rcount)\n"
     ]
    },
    {
     "name": "stdout",
     "output_type": "stream",
     "text": [
      "Stored aggregated feedback for user user1\n",
      "Aggregating feedback for user user2\n",
      "Stored aggregated feedback for user user2\n"
     ]
    }
   ],
   "source": [
    "for user_id in user_ids:\n",
    "\twith open(f\"{user_id}-messages.json\", \"r\") as f:\n",
    "\t\tchat_history = json.load(f)\n",
    "\t\n",
    "\tprint(f\"Aggregating feedback for user {user_id}\")\n",
    "\t\n",
    "\t# Aggregate feedback from chat history for current user\n",
    "\tfeedbacks = get_structured_feedback(instructor_client, chat_history)\n",
    "\taggregated_feedback: Evaluation = aggregate_feedback(feedbacks, openai_client)\n",
    "\n",
    "\t# Store User's aggregated feedback\n",
    "\twith open(f\"aggregated-feedback--user-{user_id}.json\", \"w\") as f:\n",
    "\t\tf.write(aggregated_feedback.model_dump_json(indent=2))\n",
    "\t\n",
    "\tprint(f\"Stored aggregated feedback for user {user_id}\")"
   ]
  },
  {
   "cell_type": "code",
   "execution_count": 5,
   "metadata": {},
   "outputs": [
    {
     "data": {
      "text/plain": [
       "[Evaluation(introduction=CriteraFeedback(strengths=['Effectively framing the argument in the introduction and conclusion', 'Clear and compelling stance on environmental conservation', 'Clear thesis statement'], weaknesses=['Lack of engaging opening statements', 'Lacks a clear thesis statement'], suggestions=[\"Consider using a more captivating opening to grab the reader's attention\", 'Include a clear thesis statement at the end of the introduction paragraph']), structure=CriteraFeedback(strengths=['Clear and logical organization of the essay', 'Organized paragraphs'], weaknesses=['Counterargument section could be developed further', 'Lack of transition sentences between paragraphs'], suggestions=['Develop the counterargument with more details or statistics to strengthen the position', 'Include transition sentences to improve flow']), argumentation=CriteraFeedback(strengths=['Use of examples to solidify the argument', 'Strong and clear arguments'], weaknesses=[], suggestions=['Consider using critical reasoning to enhance the depth of your arguments']), evidence=CriteraFeedback(strengths=['Relevant evidence used'], weaknesses=['Lack of citations and references'], suggestions=['Ensure to include citations and references for the evidence used in the essay']), conclusion=CriteraFeedback(strengths=['Restatement of thesis', 'Summary of main points'], weaknesses=['Weak closing statements'], suggestions=['Craft a more impactful closing statement to leave a lasting impression on the reader'])),\n",
       " Evaluation(introduction=CriteraFeedback(strengths=['Relatable and engaging language', 'Effective use of examples'], weaknesses=[], suggestions=['Add more factual information and statistics', 'Maintain a balance between conversational and formal tone']), structure=CriteraFeedback(strengths=[], weaknesses=[], suggestions=['Structure the essay with clear introductions, body paragraphs, and conclusions', 'Ensure the paragraphs are well-organized and follow a clear structure to enhance the flow of ideas.']), argumentation=CriteraFeedback(strengths=[], weaknesses=[], suggestions=['Incorporate research for a more persuasive argument', 'Strengthen your arguments by providing more clarity and supporting evidence. Use critical reasoning to enhance the persuasiveness of your points.']), evidence=CriteraFeedback(strengths=[], weaknesses=[], suggestions=['Include more relevant and high-quality evidence to support your arguments. Use citations and references to strengthen the credibility of your essay.']), conclusion=CriteraFeedback(strengths=[], weaknesses=[], suggestions=['Restate your thesis clearly, summarize the main points effectively, and craft strong closing statements to leave a lasting impression.']))]"
      ]
     },
     "execution_count": 5,
     "metadata": {},
     "output_type": "execute_result"
    }
   ],
   "source": [
    "student_aggregated_feedbacks = []\n",
    "\n",
    "for user_id in user_ids:\n",
    "\twith open(f\"aggregated-feedback--user-{user_id}.json\", \"r\") as f:\n",
    "\t\tstudent_aggregated_feedbacks.append(Evaluation(**json.load(f)))\n",
    "\n",
    "student_aggregated_feedbacks"
   ]
  },
  {
   "cell_type": "code",
   "execution_count": 6,
   "metadata": {},
   "outputs": [],
   "source": [
    "classroom_aggregated_feedback = aggregate_feedback(openai_client=openai_client, feedbacks=student_aggregated_feedbacks)\n",
    "\n",
    "with open(\"classroom-aggregated-feedback.json\", \"w\") as f:\n",
    "\tf.write(classroom_aggregated_feedback.model_dump_json(indent=2))"
   ]
  },
  {
   "cell_type": "code",
   "execution_count": 7,
   "metadata": {},
   "outputs": [
    {
     "data": {
      "text/plain": [
       "Evaluation(introduction=CriteraFeedback(strengths=['Effectively framing the argument in the introduction and conclusion', 'Clear and compelling stance on environmental conservation', 'Relatable and engaging language'], weaknesses=['Lack of engaging opening statements', 'Lacks a clear thesis statement'], suggestions=[\"Consider using a more captivating opening to grab the reader's attention\", 'Add more factual information and statistics', 'Maintain a balance between conversational and formal tone']), structure=CriteraFeedback(strengths=['Clear and logical organization of the essay', 'Organized paragraphs'], weaknesses=['Counterargument section could be developed further', 'Lack of transition sentences between paragraphs'], suggestions=['Develop the counterargument with more details or statistics to strengthen the position', 'Include transition sentences to improve flow', 'Structure the essay with clear introductions, body paragraphs, and conclusions']), argumentation=CriteraFeedback(strengths=['Use of examples to solidify the argument', 'Strong and clear arguments'], weaknesses=[], suggestions=['Consider using critical reasoning to enhance the depth of your arguments', 'Incorporate research for a more persuasive argument']), evidence=CriteraFeedback(strengths=['Relevant evidence used'], weaknesses=['Lack of citations and references'], suggestions=['Ensure to include citations and references for the evidence used in the essay', 'Include more relevant and high-quality evidence to support your arguments. Use citations and references to strengthen the credibility of your essay.']), conclusion=CriteraFeedback(strengths=['Restatement of thesis', 'Summary of main points'], weaknesses=['Weak closing statements'], suggestions=['Craft a more impactful closing statement to leave a lasting impression on the reader', 'Restate your thesis clearly, summarize the main points effectively, and craft strong closing statements to leave a lasting impression.']))"
      ]
     },
     "execution_count": 7,
     "metadata": {},
     "output_type": "execute_result"
    }
   ],
   "source": [
    "classroom_aggregated_feedback"
   ]
  },
  {
   "cell_type": "code",
   "execution_count": 8,
   "metadata": {},
   "outputs": [],
   "source": [
    "evaluation_str = pretty_format_evaluation(classroom_aggregated_feedback)"
   ]
  },
  {
   "cell_type": "code",
   "execution_count": 9,
   "metadata": {},
   "outputs": [],
   "source": [
    "from langchain_core.prompts import ChatPromptTemplate\n",
    "from langchain_openai import ChatOpenAI\n",
    "from langchain_core.messages import SystemMessage, HumanMessage"
   ]
  },
  {
   "cell_type": "code",
   "execution_count": 10,
   "metadata": {},
   "outputs": [],
   "source": [
    "prompt = ChatPromptTemplate.from_messages(\n",
    "    [\n",
    "        SystemMessage(\n",
    "            content=(\n",
    "                \"You are a Lesson Plan Generating tool for a grade 8 English classroom.\"\n",
    "                \"You will be given a query by the teacher along with an aggregate evaluation\"\n",
    "                \"of all the students based on their interaction with the Essay Feedback provider tool\"\n",
    "                \"Use both pieces of information to personalise your outputs. Use markdown.\"\n",
    "\t\t\t\t\"Only provide the lesson plan, do not regurgitate the evaluation.\\n\\n\"\n",
    "\t\t\t\tf\"Class Evaluation: {evaluation_str}\"\n",
    "            )\n",
    "        )\n",
    "    ]\n",
    ")\n",
    "\n",
    "model = ChatOpenAI()\n",
    "\n",
    "chain = prompt | model"
   ]
  },
  {
   "cell_type": "code",
   "execution_count": 11,
   "metadata": {},
   "outputs": [],
   "source": [
    "query = \"world war 2\"\n",
    "\n",
    "result = chain.invoke({\n",
    "\t\"messages\": [\n",
    "\t\tHumanMessage(\n",
    "\t\t\tcontent=(\n",
    "\t\t\t\tf\"Generate a lesson plan to teach this topic: {query}\"\n",
    "\t\t\t)\n",
    "\t\t)\n",
    "\t]\n",
    "})"
   ]
  },
  {
   "cell_type": "code",
   "execution_count": 12,
   "metadata": {},
   "outputs": [
    {
     "name": "stdout",
     "output_type": "stream",
     "text": [
      "# Lesson Plan: Improving Essay Writing Skills\n",
      "\n",
      "## Objective:\n",
      "- Students will be able to enhance their essay writing skills by incorporating engaging opening statements, developing counterarguments with evidence, and crafting impactful closing statements.\n",
      "\n",
      "## Duration:\n",
      "- 2 class periods (45 minutes each)\n",
      "\n",
      "## Materials:\n",
      "- Copies of the students' previous essays\n",
      "- Whiteboard and markers\n",
      "- Sample essays with strong opening, counterargument, and closing statements\n",
      "\n",
      "## Lesson Outline:\n",
      "\n",
      "### Introduction (10 minutes):\n",
      "1. Begin by discussing the importance of engaging opening statements in an essay.\n",
      "2. Show examples of captivating opening statements from sample essays.\n",
      "3. Ask students to share their previous opening statements and discuss ways to make them more engaging.\n",
      "\n",
      "### Body (60 minutes):\n",
      "1. Focus on developing counterarguments with evidence.\n",
      "   - Explain the significance of addressing opposing viewpoints in an essay.\n",
      "   - Provide examples of well-developed counterarguments with statistics and details.\n",
      "   - Have students work in pairs to enhance the counterargument sections of their essays with more evidence.\n",
      "\n",
      "2. Incorporate citations and references.\n",
      "   - Discuss the importance of citing sources to strengthen the credibility of arguments.\n",
      "   - Show examples of proper citation and referencing in essays.\n",
      "   - Ask students to add citations and references to the evidence used in their essays.\n",
      "\n",
      "3. Crafting impactful closing statements.\n",
      "   - Emphasize the need for a strong conclusion to leave a lasting impression on the reader.\n",
      "   - Analyze examples of powerful closing statements.\n",
      "   - Have students revise their closing statements to make them more impactful.\n",
      "\n",
      "### Conclusion (15 minutes):\n",
      "1. Review the key points discussed during the lesson.\n",
      "2. Encourage students to apply the feedback and suggestions provided to enhance their essays.\n",
      "3. Assign students to revise their essays incorporating the new techniques learned during the lesson.\n",
      "\n",
      "## Homework:\n",
      "- Students will revise their essays based on the feedback and suggestions provided in class. They should focus on improving their opening statements, developing counterarguments with evidence, and crafting impactful closing statements.\n",
      "\n",
      "By addressing the specific areas of improvement highlighted in the evaluation, this lesson plan aims to help students enhance their essay writing skills and create more compelling and well-structured essays.\n"
     ]
    }
   ],
   "source": [
    "print(result.content)"
   ]
  }
 ],
 "metadata": {
  "kernelspec": {
   "display_name": "classroom-lm-poc-GKspPBel-py3.11",
   "language": "python",
   "name": "python3"
  },
  "language_info": {
   "codemirror_mode": {
    "name": "ipython",
    "version": 3
   },
   "file_extension": ".py",
   "mimetype": "text/x-python",
   "name": "python",
   "nbconvert_exporter": "python",
   "pygments_lexer": "ipython3",
   "version": "3.11.4"
  }
 },
 "nbformat": 4,
 "nbformat_minor": 2
}
